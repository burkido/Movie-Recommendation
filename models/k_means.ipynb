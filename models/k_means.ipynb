{
 "cells": [
  {
   "cell_type": "code",
   "execution_count": 61,
   "metadata": {},
   "outputs": [],
   "source": [
    "import pandas as pd\n",
    "from sklearn.cluster import KMeans\n",
    "from sklearn.preprocessing import MinMaxScaler\n",
    "from sklearn.metrics import silhouette_score"
   ]
  },
  {
   "cell_type": "code",
   "execution_count": 62,
   "metadata": {},
   "outputs": [],
   "source": [
    "df = pd.read_csv('/Users/burak/Developer/MachineLearning/4462 - Final Project/notebooks/mock_user_data.csv')"
   ]
  },
  {
   "cell_type": "code",
   "execution_count": 63,
   "metadata": {},
   "outputs": [
    {
     "data": {
      "text/html": [
       "<div>\n",
       "<style scoped>\n",
       "    .dataframe tbody tr th:only-of-type {\n",
       "        vertical-align: middle;\n",
       "    }\n",
       "\n",
       "    .dataframe tbody tr th {\n",
       "        vertical-align: top;\n",
       "    }\n",
       "\n",
       "    .dataframe thead th {\n",
       "        text-align: right;\n",
       "    }\n",
       "</style>\n",
       "<table border=\"1\" class=\"dataframe\">\n",
       "  <thead>\n",
       "    <tr style=\"text-align: right;\">\n",
       "      <th></th>\n",
       "      <th>username</th>\n",
       "      <th>country</th>\n",
       "      <th>title</th>\n",
       "      <th>date_watched</th>\n",
       "      <th>percentage_watched</th>\n",
       "      <th>rating</th>\n",
       "    </tr>\n",
       "  </thead>\n",
       "  <tbody>\n",
       "    <tr>\n",
       "      <th>10120</th>\n",
       "      <td>Kenneth Lyons</td>\n",
       "      <td>Georgia</td>\n",
       "      <td>['Freedomland' 'Tyson' 'Acts of Violence' 'Mys...</td>\n",
       "      <td>2002.0</td>\n",
       "      <td>91.0</td>\n",
       "      <td>6.0</td>\n",
       "    </tr>\n",
       "    <tr>\n",
       "      <th>12318</th>\n",
       "      <td>Jeffrey Clark</td>\n",
       "      <td>Singapore</td>\n",
       "      <td>['Scooby-Doo on Zombie Island' 'Riverdale' 'Yo...</td>\n",
       "      <td>2014.0</td>\n",
       "      <td>49.0</td>\n",
       "      <td>10.0</td>\n",
       "    </tr>\n",
       "    <tr>\n",
       "      <th>1668</th>\n",
       "      <td>Kathy White</td>\n",
       "      <td>Micronesia</td>\n",
       "      <td>['Postcards from London' '\\u200bMaj Rati \\u200...</td>\n",
       "      <td>2003.0</td>\n",
       "      <td>37.0</td>\n",
       "      <td>7.0</td>\n",
       "    </tr>\n",
       "  </tbody>\n",
       "</table>\n",
       "</div>"
      ],
      "text/plain": [
       "            username     country   \n",
       "10120  Kenneth Lyons     Georgia  \\\n",
       "12318  Jeffrey Clark   Singapore   \n",
       "1668     Kathy White  Micronesia   \n",
       "\n",
       "                                                   title  date_watched   \n",
       "10120  ['Freedomland' 'Tyson' 'Acts of Violence' 'Mys...        2002.0  \\\n",
       "12318  ['Scooby-Doo on Zombie Island' 'Riverdale' 'Yo...        2014.0   \n",
       "1668   ['Postcards from London' '\\u200bMaj Rati \\u200...        2003.0   \n",
       "\n",
       "       percentage_watched  rating  \n",
       "10120                91.0     6.0  \n",
       "12318                49.0    10.0  \n",
       "1668                 37.0     7.0  "
      ]
     },
     "execution_count": 63,
     "metadata": {},
     "output_type": "execute_result"
    }
   ],
   "source": [
    "df.sample(3)"
   ]
  },
  {
   "cell_type": "code",
   "execution_count": 64,
   "metadata": {},
   "outputs": [
    {
     "data": {
      "text/plain": [
       "(15001, 6)"
      ]
     },
     "execution_count": 64,
     "metadata": {},
     "output_type": "execute_result"
    }
   ],
   "source": [
    "df.shape"
   ]
  },
  {
   "cell_type": "code",
   "execution_count": 65,
   "metadata": {},
   "outputs": [],
   "source": [
    "df_titles = df['title'].str.get_dummies(sep=',')\n",
    "\n",
    "# remove if there is a [ or ] in the game name\n",
    "df_titles = df_titles.rename(columns=lambda x: x.replace('[', '').replace(']', ''))"
   ]
  },
  {
   "cell_type": "code",
   "execution_count": 66,
   "metadata": {},
   "outputs": [
    {
     "data": {
      "text/html": [
       "<div>\n",
       "<style scoped>\n",
       "    .dataframe tbody tr th:only-of-type {\n",
       "        vertical-align: middle;\n",
       "    }\n",
       "\n",
       "    .dataframe tbody tr th {\n",
       "        vertical-align: top;\n",
       "    }\n",
       "\n",
       "    .dataframe thead th {\n",
       "        text-align: right;\n",
       "    }\n",
       "</style>\n",
       "<table border=\"1\" class=\"dataframe\">\n",
       "  <thead>\n",
       "    <tr style=\"text-align: right;\">\n",
       "      <th></th>\n",
       "      <th>username</th>\n",
       "      <th>country</th>\n",
       "      <th>date_watched</th>\n",
       "      <th>percentage_watched</th>\n",
       "      <th>rating</th>\n",
       "      <th>15'\\n 'Budhia Singh: Born to Run' 'Bangkok Love Stories: Innocence'\\n 'Remember Me' 'Steve Jobs' 'The School of Mischief'</th>\n",
       "      <th>15' \"Eve's Apple\" 'Happy Jail' 'Thackeray (Hindi)'\\n 'Hotel Pacific' 'Kota Factory' 'KO One Return' 'J-Style Trip'\\n 'The Darkness'</th>\n",
       "      <th>15' \"Kevin Hart's Guide to Black History\" 'Disjointed'\\n 'Hong Kong West Side Stories' 'Marvel Anime: Wolverine'\\n 'Lo más sencillo es complicarlo todo' 'Secret Obsession' 'Action Replayy'</th>\n",
       "      <th>15' 'A Most Violent Year'\\n 'Meet the Trumps: From Immigrant to President'\\n 'All Hail King Julien: Exiled'</th>\n",
       "      <th>15' 'Chris Rock: Tamborine'\\n 'Day of Destiny' 'Bobby Robson: More Than a Manager'\\n 'A Cinderella Story: Christmas Wish' 'Mere Papa Hero Hiralal'\\n 'Hide and Seek'</th>\n",
       "      <th>...</th>\n",
       "      <th>'الف مبروك' 'Oasis: Supersonic' 'They Are Everywhere'\\n 'Full Out 2: You Got This!' 'Shikara' 'KO One Return' 'Get Shorty'</th>\n",
       "      <th>'دفعة القاهرة'\\n \"Bruno and Boots: This Can't Be Happening at Macdonald Hall\" 'Joker'\\n 'Motu Patlu: Deep Sea Adventure' '9' 'Kay Dyache Bola'\\n 'The Royal House of Windsor' \"Angela's Christmas\" 'Cop Car'</th>\n",
       "      <th>'دفعة القاهرة' \"Alice Doesn't Live Here Anymore\" 'One on One' 'The Mist'\\n 'The Sinking Of Van Der Wijck' 'Love O2O'\\n 'A Cinderella Story: Christmas Wish' 'Rip Tide'</th>\n",
       "      <th>'دفعة القاهرة' 'Alias JJ</th>\n",
       "      <th>'دفعة القاهرة' 'Liar</th>\n",
       "      <th>'دفعة القاهرة' 'ReMastered: Who Shot the Sheriff'\\n 'Let It Fall: Los Angeles 1982-1992' 'Taken' \"Garfield's Pet Force\"\\n 'Flock of Four' 'When Hari Got Married'</th>\n",
       "      <th>'يوم الدين' 'Maya Angelou: And Still I Rise' 'Anthony Kaun Hai?'\\n 'Laddaland' 'The Could’ve-Gone-All-the-Way Committee' 'My MVP Valentine'\\n 'My Little Pony Equestria Girls: Forgotten Friendship'\\n 'Maine Pyaar Kyun Kiya' 'John Mulaney: Kid Gorgeous at Radio City'</th>\n",
       "      <th>'海的儿子' 'Kay Dyache Bola' 'Memoir of a Murderer' 'My MVP Valentine'\\n \"Who's That Knocking at My Door?\" 'Violet Evergarden: Special' 'Lavender'\\n 'Paradise Beach'</th>\n",
       "      <th>'최강전사 미니특공대 : 영웅의 탄생' 'Lock</th>\n",
       "      <th>'최강전사 미니특공대 : 영웅의 탄생' 'The Workshop' 'La Piloto' 'Padamu Aku Bersujud'\\n 'Siren'</th>\n",
       "    </tr>\n",
       "  </thead>\n",
       "  <tbody>\n",
       "    <tr>\n",
       "      <th>760</th>\n",
       "      <td>Tina Adams</td>\n",
       "      <td>Ukraine</td>\n",
       "      <td>2020.0</td>\n",
       "      <td>67.0</td>\n",
       "      <td>7.0</td>\n",
       "      <td>0</td>\n",
       "      <td>0</td>\n",
       "      <td>0</td>\n",
       "      <td>0</td>\n",
       "      <td>0</td>\n",
       "      <td>...</td>\n",
       "      <td>0</td>\n",
       "      <td>0</td>\n",
       "      <td>0</td>\n",
       "      <td>0</td>\n",
       "      <td>0</td>\n",
       "      <td>0</td>\n",
       "      <td>0</td>\n",
       "      <td>0</td>\n",
       "      <td>0</td>\n",
       "      <td>0</td>\n",
       "    </tr>\n",
       "    <tr>\n",
       "      <th>63</th>\n",
       "      <td>Jessica Garcia</td>\n",
       "      <td>France</td>\n",
       "      <td>2013.0</td>\n",
       "      <td>15.0</td>\n",
       "      <td>5.0</td>\n",
       "      <td>0</td>\n",
       "      <td>0</td>\n",
       "      <td>0</td>\n",
       "      <td>0</td>\n",
       "      <td>0</td>\n",
       "      <td>...</td>\n",
       "      <td>0</td>\n",
       "      <td>0</td>\n",
       "      <td>0</td>\n",
       "      <td>0</td>\n",
       "      <td>0</td>\n",
       "      <td>0</td>\n",
       "      <td>0</td>\n",
       "      <td>0</td>\n",
       "      <td>0</td>\n",
       "      <td>0</td>\n",
       "    </tr>\n",
       "    <tr>\n",
       "      <th>5375</th>\n",
       "      <td>Isabella Robinson</td>\n",
       "      <td>Tokelau</td>\n",
       "      <td>2022.0</td>\n",
       "      <td>28.0</td>\n",
       "      <td>9.0</td>\n",
       "      <td>0</td>\n",
       "      <td>0</td>\n",
       "      <td>0</td>\n",
       "      <td>0</td>\n",
       "      <td>0</td>\n",
       "      <td>...</td>\n",
       "      <td>0</td>\n",
       "      <td>0</td>\n",
       "      <td>0</td>\n",
       "      <td>0</td>\n",
       "      <td>0</td>\n",
       "      <td>0</td>\n",
       "      <td>0</td>\n",
       "      <td>0</td>\n",
       "      <td>0</td>\n",
       "      <td>0</td>\n",
       "    </tr>\n",
       "  </tbody>\n",
       "</table>\n",
       "<p>3 rows × 16400 columns</p>\n",
       "</div>"
      ],
      "text/plain": [
       "               username  country  date_watched  percentage_watched  rating   \n",
       "760          Tina Adams  Ukraine        2020.0                67.0     7.0  \\\n",
       "63       Jessica Garcia   France        2013.0                15.0     5.0   \n",
       "5375  Isabella Robinson  Tokelau        2022.0                28.0     9.0   \n",
       "\n",
       "       15'\\n 'Budhia Singh: Born to Run' 'Bangkok Love Stories: Innocence'\\n 'Remember Me' 'Steve Jobs' 'The School of Mischief'   \n",
       "760                                                   0                                                                           \\\n",
       "63                                                    0                                                                            \n",
       "5375                                                  0                                                                            \n",
       "\n",
       "       15' \"Eve's Apple\" 'Happy Jail' 'Thackeray (Hindi)'\\n 'Hotel Pacific' 'Kota Factory' 'KO One Return' 'J-Style Trip'\\n 'The Darkness'   \n",
       "760                                                   0                                                                                     \\\n",
       "63                                                    0                                                                                      \n",
       "5375                                                  0                                                                                      \n",
       "\n",
       "       15' \"Kevin Hart's Guide to Black History\" 'Disjointed'\\n 'Hong Kong West Side Stories' 'Marvel Anime: Wolverine'\\n 'Lo más sencillo es complicarlo todo' 'Secret Obsession' 'Action Replayy'   \n",
       "760                                                   0                                                                                                                                              \\\n",
       "63                                                    0                                                                                                                                               \n",
       "5375                                                  0                                                                                                                                               \n",
       "\n",
       "       15' 'A Most Violent Year'\\n 'Meet the Trumps: From Immigrant to President'\\n 'All Hail King Julien: Exiled'   \n",
       "760                                                   0                                                             \\\n",
       "63                                                    0                                                              \n",
       "5375                                                  0                                                              \n",
       "\n",
       "       15' 'Chris Rock: Tamborine'\\n 'Day of Destiny' 'Bobby Robson: More Than a Manager'\\n 'A Cinderella Story: Christmas Wish' 'Mere Papa Hero Hiralal'\\n 'Hide and Seek'   \n",
       "760                                                   0                                                                                                                      \\\n",
       "63                                                    0                                                                                                                       \n",
       "5375                                                  0                                                                                                                       \n",
       "\n",
       "      ...   \n",
       "760   ...  \\\n",
       "63    ...   \n",
       "5375  ...   \n",
       "\n",
       "      'الف مبروك' 'Oasis: Supersonic' 'They Are Everywhere'\\n 'Full Out 2: You Got This!' 'Shikara' 'KO One Return' 'Get Shorty'   \n",
       "760                                                   0                                                                           \\\n",
       "63                                                    0                                                                            \n",
       "5375                                                  0                                                                            \n",
       "\n",
       "      'دفعة القاهرة'\\n \"Bruno and Boots: This Can't Be Happening at Macdonald Hall\" 'Joker'\\n 'Motu Patlu: Deep Sea Adventure' '9' 'Kay Dyache Bola'\\n 'The Royal House of Windsor' \"Angela's Christmas\" 'Cop Car'   \n",
       "760                                                   0                                                                                                                                                             \\\n",
       "63                                                    0                                                                                                                                                              \n",
       "5375                                                  0                                                                                                                                                              \n",
       "\n",
       "      'دفعة القاهرة' \"Alice Doesn't Live Here Anymore\" 'One on One' 'The Mist'\\n 'The Sinking Of Van Der Wijck' 'Love O2O'\\n 'A Cinderella Story: Christmas Wish' 'Rip Tide'   \n",
       "760                                                   0                                                                                                                       \\\n",
       "63                                                    0                                                                                                                        \n",
       "5375                                                  0                                                                                                                        \n",
       "\n",
       "      'دفعة القاهرة' 'Alias JJ  'دفعة القاهرة' 'Liar   \n",
       "760                          0                     0  \\\n",
       "63                           0                     0   \n",
       "5375                         0                     0   \n",
       "\n",
       "      'دفعة القاهرة' 'ReMastered: Who Shot the Sheriff'\\n 'Let It Fall: Los Angeles 1982-1992' 'Taken' \"Garfield's Pet Force\"\\n 'Flock of Four' 'When Hari Got Married'   \n",
       "760                                                   0                                                                                                                  \\\n",
       "63                                                    0                                                                                                                   \n",
       "5375                                                  0                                                                                                                   \n",
       "\n",
       "      'يوم الدين' 'Maya Angelou: And Still I Rise' 'Anthony Kaun Hai?'\\n 'Laddaland' 'The Could’ve-Gone-All-the-Way Committee' 'My MVP Valentine'\\n 'My Little Pony Equestria Girls: Forgotten Friendship'\\n 'Maine Pyaar Kyun Kiya' 'John Mulaney: Kid Gorgeous at Radio City'   \n",
       "760                                                   0                                                                                                                                                                                                                          \\\n",
       "63                                                    0                                                                                                                                                                                                                           \n",
       "5375                                                  0                                                                                                                                                                                                                           \n",
       "\n",
       "      '海的儿子' 'Kay Dyache Bola' 'Memoir of a Murderer' 'My MVP Valentine'\\n \"Who's That Knocking at My Door?\" 'Violet Evergarden: Special' 'Lavender'\\n 'Paradise Beach'   \n",
       "760                                                   0                                                                                                                  \\\n",
       "63                                                    0                                                                                                                   \n",
       "5375                                                  0                                                                                                                   \n",
       "\n",
       "      '최강전사 미니특공대 : 영웅의 탄생' 'Lock   \n",
       "760                             0  \\\n",
       "63                              0   \n",
       "5375                            0   \n",
       "\n",
       "      '최강전사 미니특공대 : 영웅의 탄생' 'The Workshop' 'La Piloto' 'Padamu Aku Bersujud'\\n 'Siren'  \n",
       "760                                                   0                                 \n",
       "63                                                    0                                 \n",
       "5375                                                  0                                 \n",
       "\n",
       "[3 rows x 16400 columns]"
      ]
     },
     "execution_count": 66,
     "metadata": {},
     "output_type": "execute_result"
    }
   ],
   "source": [
    "#replace title column with the new columns\n",
    "df = pd.concat([df, df_titles], axis=1)\n",
    "df.drop(['title'], inplace=True, axis=1)\n",
    "\n",
    "df.sample(3)"
   ]
  },
  {
   "cell_type": "code",
   "execution_count": 67,
   "metadata": {},
   "outputs": [],
   "source": [
    "from sklearn.preprocessing import LabelEncoder"
   ]
  },
  {
   "cell_type": "code",
   "execution_count": 68,
   "metadata": {},
   "outputs": [],
   "source": [
    "encoder = LabelEncoder()\n",
    "df['country'] = encoder.fit_transform(df['country'])"
   ]
  },
  {
   "cell_type": "code",
   "execution_count": 69,
   "metadata": {},
   "outputs": [],
   "source": [
    "df_final = df.drop('username', axis=1)\n",
    "df_final.dropna(inplace=True)"
   ]
  },
  {
   "cell_type": "code",
   "execution_count": 70,
   "metadata": {},
   "outputs": [
    {
     "data": {
      "text/plain": [
       "country                                                                                                                                                                                                                                                                      0\n",
       "date_watched                                                                                                                                                                                                                                                                 0\n",
       "percentage_watched                                                                                                                                                                                                                                                           0\n",
       "rating                                                                                                                                                                                                                                                                       0\n",
       " 15'\\n 'Budhia Singh: Born to Run' 'Bangkok Love Stories: Innocence'\\n 'Remember Me' 'Steve Jobs' 'The School of Mischief'                                                                                                                                                   0\n",
       "                                                                                                                                                                                                                                                                            ..\n",
       "'دفعة القاهرة' 'ReMastered: Who Shot the Sheriff'\\n 'Let It Fall: Los Angeles 1982-1992' 'Taken' \"Garfield's Pet Force\"\\n 'Flock of Four' 'When Hari Got Married'                                                                                                            0\n",
       "'يوم الدين' 'Maya Angelou: And Still I Rise' 'Anthony Kaun Hai?'\\n 'Laddaland' 'The Could’ve-Gone-All-the-Way Committee' 'My MVP Valentine'\\n 'My Little Pony Equestria Girls: Forgotten Friendship'\\n 'Maine Pyaar Kyun Kiya' 'John Mulaney: Kid Gorgeous at Radio City'    0\n",
       "'海的儿子' 'Kay Dyache Bola' 'Memoir of a Murderer' 'My MVP Valentine'\\n \"Who's That Knocking at My Door?\" 'Violet Evergarden: Special' 'Lavender'\\n 'Paradise Beach'                                                                                                            0\n",
       "'최강전사 미니특공대 : 영웅의 탄생' 'Lock                                                                                                                                                                                                                                                  0\n",
       "'최강전사 미니특공대 : 영웅의 탄생' 'The Workshop' 'La Piloto' 'Padamu Aku Bersujud'\\n 'Siren'                                                                                                                                                                                             0\n",
       "Length: 16399, dtype: int64"
      ]
     },
     "execution_count": 70,
     "metadata": {},
     "output_type": "execute_result"
    }
   ],
   "source": [
    "#print number of null\n",
    "df_final.isnull().sum()"
   ]
  },
  {
   "cell_type": "code",
   "execution_count": 71,
   "metadata": {},
   "outputs": [
    {
     "name": "stderr",
     "output_type": "stream",
     "text": [
      "/Users/burak/miniforge3/envs/we-hear-you/lib/python3.8/site-packages/sklearn/cluster/_kmeans.py:870: FutureWarning: The default value of `n_init` will change from 10 to 'auto' in 1.4. Set the value of `n_init` explicitly to suppress the warning\n",
      "  warnings.warn(\n"
     ]
    },
    {
     "name": "stdout",
     "output_type": "stream",
     "text": [
      "Silhouette Score: 0.040\n"
     ]
    }
   ],
   "source": [
    "# Scale the data\n",
    "scaler = MinMaxScaler()\n",
    "df_scaled = scaler.fit_transform(df_final)\n",
    "\n",
    "# Create the model\n",
    "kmeans = KMeans(n_clusters=3, random_state=42)\n",
    "\n",
    "# Fit the model\n",
    "kmeans.fit(df_scaled)\n",
    "\n",
    "# Predict the labels\n",
    "labels = kmeans.predict(df_scaled)\n",
    "\n",
    "# Calculate the silhouette score\n",
    "score = silhouette_score(df_scaled, labels)\n",
    "print('Silhouette Score: %.3f' % score)"
   ]
  },
  {
   "cell_type": "code",
   "execution_count": 72,
   "metadata": {},
   "outputs": [
    {
     "data": {
      "text/plain": [
       "(15001, 16400)"
      ]
     },
     "execution_count": 72,
     "metadata": {},
     "output_type": "execute_result"
    }
   ],
   "source": [
    "labels = pd.DataFrame(labels, columns=['cluster'])\n",
    "df_labeled = pd.concat([df_final, labels], axis=1)\n",
    "\n",
    "df_labeled.shape"
   ]
  },
  {
   "cell_type": "code",
   "execution_count": 73,
   "metadata": {},
   "outputs": [
    {
     "name": "stdout",
     "output_type": "stream",
     "text": [
      "cluster\n",
      "2.0    5950\n",
      "1.0    4575\n",
      "0.0    4474\n",
      "Name: count, dtype: int64\n"
     ]
    }
   ],
   "source": [
    "#print the label count\n",
    "print(df_labeled['cluster'].value_counts())"
   ]
  },
  {
   "cell_type": "code",
   "execution_count": 81,
   "metadata": {},
   "outputs": [],
   "source": [
    "#assign ussername back to the dataframe\n",
    "df_labeled['username'] = df['username']\n",
    "df_labeled.dropna(inplace=True)"
   ]
  },
  {
   "cell_type": "code",
   "execution_count": 82,
   "metadata": {},
   "outputs": [
    {
     "data": {
      "text/plain": [
       "2        1.0\n",
       "3        2.0\n",
       "4        2.0\n",
       "5        0.0\n",
       "6        1.0\n",
       "        ... \n",
       "14994    0.0\n",
       "14995    0.0\n",
       "14996    2.0\n",
       "14997    2.0\n",
       "14998    1.0\n",
       "Name: cluster, Length: 14997, dtype: float64"
      ]
     },
     "execution_count": 82,
     "metadata": {},
     "output_type": "execute_result"
    }
   ],
   "source": [
    "df_labeled['cluster']"
   ]
  },
  {
   "cell_type": "code",
   "execution_count": 119,
   "metadata": {},
   "outputs": [
    {
     "name": "stdout",
     "output_type": "stream",
     "text": [
      "<class 'list'>\n",
      "[\" 15'\\n 'Budhia Singh: Born to Run' 'Bangkok Love Stories: Innocence'\\n 'Remember Me' 'Steve Jobs' 'The School of Mischief'\", ' 15\\' \"Eve\\'s Apple\" \\'Happy Jail\\' \\'Thackeray (Hindi)\\'\\n \\'Hotel Pacific\\' \\'Kota Factory\\' \\'KO One Return\\' \\'J-Style Trip\\'\\n \\'The Darkness\\'', ' 15\\' \"Kevin Hart\\'s Guide to Black History\" \\'Disjointed\\'\\n \\'Hong Kong West Side Stories\\' \\'Marvel Anime: Wolverine\\'\\n \\'Lo más sencillo es complicarlo todo\\' \\'Secret Obsession\\' \\'Action Replayy\\'', \" 15' 'A Most Violent Year'\\n 'Meet the Trumps: From Immigrant to President'\\n 'All Hail King Julien: Exiled'\", \" 15' 'Chris Rock: Tamborine'\\n 'Day of Destiny' 'Bobby Robson: More Than a Manager'\\n 'A Cinderella Story: Christmas Wish' 'Mere Papa Hero Hiralal'\\n 'Hide and Seek'\", \" 15' 'Fairy Tail'\"]\n"
     ]
    }
   ],
   "source": [
    "def get_recommendation(username):\n",
    "    user_cluster = df_labeled[df_labeled['username'] == username]['cluster'].values[0]\n",
    "    cluster_df = df_labeled[df_labeled['cluster'] == user_cluster]\n",
    "    cluster_df = cluster_df[cluster_df['username'] != username]\n",
    "    \n",
    "    titles = []\n",
    "\n",
    "    for i in range(4, 10):\n",
    "        titles.append(cluster_df.columns[i])\n",
    "    \n",
    "    print(type(titles))\n",
    "\n",
    "\n",
    "\n",
    "    return titles\n",
    "\n",
    "\n",
    "list = get_recommendation('Mark Lopez')\n",
    "print(list)"
   ]
  },
  {
   "cell_type": "code",
   "execution_count": 120,
   "metadata": {},
   "outputs": [],
   "source": [
    "import pickle"
   ]
  },
  {
   "cell_type": "code",
   "execution_count": null,
   "metadata": {},
   "outputs": [],
   "source": [
    "with(open('titles.pkl', 'wb')) as f:\n",
    "    pickle.dump(df_labeled, f)"
   ]
  }
 ],
 "metadata": {
  "kernelspec": {
   "display_name": "we-hear-you",
   "language": "python",
   "name": "python3"
  },
  "language_info": {
   "codemirror_mode": {
    "name": "ipython",
    "version": 3
   },
   "file_extension": ".py",
   "mimetype": "text/x-python",
   "name": "python",
   "nbconvert_exporter": "python",
   "pygments_lexer": "ipython3",
   "version": "3.8.16"
  },
  "orig_nbformat": 4
 },
 "nbformat": 4,
 "nbformat_minor": 2
}
